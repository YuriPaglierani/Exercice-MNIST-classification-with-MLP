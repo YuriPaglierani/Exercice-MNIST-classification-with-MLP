{
 "cells": [
  {
   "cell_type": "markdown",
   "metadata": {},
   "source": [
    "### Load libraries"
   ]
  },
  {
   "cell_type": "code",
   "execution_count": 1,
   "metadata": {},
   "outputs": [],
   "source": [
    "import numpy as np\n",
    "from sklearn.preprocessing import MinMaxScaler\n",
    "from sklearn.metrics import accuracy_score, log_loss\n",
    "import matplotlib.pyplot as plt\n",
    "from time import time\n",
    "from sklearn.neural_network import MLPClassifier\n",
    "from sklearn.decomposition import PCA\n",
    "from sklearn.metrics import confusion_matrix\n",
    "import seaborn as sns\n",
    "import os\n",
    "import struct\n",
    "from sklearn.model_selection import cross_val_score"
   ]
  },
  {
   "cell_type": "markdown",
   "metadata": {},
   "source": [
    "### Function for loading data"
   ]
  },
  {
   "cell_type": "code",
   "execution_count": 2,
   "metadata": {},
   "outputs": [],
   "source": [
    "def load_mnist(path=\"/\"):\n",
    "    train_labels_path = os.path.join(path, \"train-labels.idx1-ubyte\")\n",
    "    train_images_path = os.path.join(path, \"train-images.idx3-ubyte\")\n",
    "\n",
    "    test_labels_path = os.path.join(path, \"t10k-labels.idx1-ubyte\")\n",
    "    test_images_path = os.path.join(path, \"t10k-images.idx3-ubyte\")\n",
    "\n",
    "    labels_path = [train_labels_path, test_labels_path]\n",
    "    images_path = [train_images_path, test_images_path]\n",
    "\n",
    "    labels = []\n",
    "    images = []\n",
    "\n",
    "    for path in zip(labels_path, images_path):\n",
    "        with open(path[0], 'rb') as lbpath:\n",
    "            magic, n = struct.unpack('>II', lbpath.read(8))\n",
    "            lb = np.fromfile(lbpath, dtype=np.uint8)\n",
    "            labels.append(lb)\n",
    "\n",
    "        with open(path[1], 'rb') as imgpath:\n",
    "            magic, num, rows, cols = struct.unpack(\">IIII\", imgpath.read(16))\n",
    "            images.append(np.fromfile(imgpath, dtype=np.uint8).reshape(len(lb), 784))\n",
    "\n",
    "    return images[0], images[1], labels[0], labels[1]"
   ]
  },
  {
   "cell_type": "markdown",
   "metadata": {},
   "source": [
    "### Load the dataset"
   ]
  },
  {
   "cell_type": "code",
   "execution_count": 3,
   "metadata": {},
   "outputs": [
    {
     "name": "stdout",
     "output_type": "stream",
     "text": [
      "Initial number of properties: 784\n",
      "Examples for training: 60000\n",
      "Examples for test: 10000\n"
     ]
    }
   ],
   "source": [
    "X_train, X_test, Y_train, Y_test = load_mnist(path='MNIST')\n",
    "print(f\"Initial number of properties: {X_train.shape[1]}\")\n",
    "print(f\"Examples for training: {X_train.shape[0]}\")\n",
    "print(f\"Examples for test: {X_test.shape[0]}\")"
   ]
  },
  {
   "cell_type": "markdown",
   "metadata": {},
   "source": [
    "### Scale the dataset"
   ]
  },
  {
   "cell_type": "code",
   "execution_count": 4,
   "metadata": {},
   "outputs": [],
   "source": [
    "mms = MinMaxScaler()\n",
    "X_train = mms.fit_transform(X_train)\n",
    "X_test = mms.transform(X_test)"
   ]
  },
  {
   "cell_type": "markdown",
   "metadata": {},
   "source": [
    "### Use the PCA on the dataset"
   ]
  },
  {
   "cell_type": "code",
   "execution_count": 5,
   "metadata": {},
   "outputs": [
    {
     "name": "stdout",
     "output_type": "stream",
     "text": [
      "Final number of properties with a 0.90 threshold for variance: 87\n",
      "Time for the PCA: 7.82 seconds\n"
     ]
    }
   ],
   "source": [
    "pca = PCA(0.90)\n",
    "start_time = time()\n",
    "X_train_pca = pca.fit_transform(X_train)\n",
    "X_test_pca = pca.transform(X_test)\n",
    "end_time = time()\n",
    "\n",
    "print(f\"Final number of properties with a 0.90 threshold for variance: {X_train_pca.shape[1]}\")\n",
    "print(f\"Time for the PCA: {round(end_time-start_time, 2)} seconds\")"
   ]
  },
  {
   "cell_type": "markdown",
   "metadata": {},
   "source": [
    "### Configuration of the Multilayer Perceptron"
   ]
  },
  {
   "cell_type": "code",
   "execution_count": 6,
   "metadata": {},
   "outputs": [
    {
     "name": "stdout",
     "output_type": "stream",
     "text": [
      "Size of the Multilayer Perceptron: (64, 64)\n"
     ]
    }
   ],
   "source": [
    "hl_size = (64, 64,)\n",
    "\n",
    "mlp = MLPClassifier(hidden_layer_sizes=hl_size,\n",
    "                    verbose=False,\n",
    "                    solver='adam',\n",
    "                    max_iter=2000,\n",
    "                    learning_rate='adaptive',\n",
    "                    alpha=0.01)\n",
    "\n",
    "print(f\"Size of the Multilayer Perceptron: {hl_size}\")"
   ]
  },
  {
   "cell_type": "markdown",
   "metadata": {},
   "source": [
    "### Cross validation on the MLP (run only if you have enough computational power or a lot of time, in this case it's better to run this code on Google Colab)"
   ]
  },
  {
   "cell_type": "code",
   "execution_count": 7,
   "metadata": {},
   "outputs": [
    {
     "data": {
      "text/plain": [
       "'start_time = time()\\nscore = cross_val_score(mlp, X_train, Y_train, cv=10)\\nend_time = time()\\n\\nprint(f\"Mean score for cross valuation in training: {score.mean}\")\\nprint(f\"Time for the cross valuation: {round(end_time-start_time, 2)} seconds\")'"
      ]
     },
     "execution_count": 7,
     "metadata": {},
     "output_type": "execute_result"
    }
   ],
   "source": [
    "'''start_time = time()\n",
    "score = cross_val_score(mlp, X_train, Y_train, cv=10)\n",
    "end_time = time()\n",
    "\n",
    "print(f\"Mean score for cross valuation in training: {score.mean}\")\n",
    "print(f\"Time for the cross valuation: {round(end_time-start_time, 2)} seconds\")'''"
   ]
  },
  {
   "cell_type": "markdown",
   "metadata": {},
   "source": [
    "### Training of the MLP"
   ]
  },
  {
   "cell_type": "code",
   "execution_count": 8,
   "metadata": {},
   "outputs": [
    {
     "name": "stdout",
     "output_type": "stream",
     "text": [
      "Time for training the MLP: 57.19 seconds\n"
     ]
    }
   ],
   "source": [
    "start_time = time()\n",
    "mlp.fit(X_train, Y_train)\n",
    "end_time = time()\n",
    "\n",
    "\n",
    "print(f\"Time for training the MLP: {round(end_time-start_time, 2)} seconds\")"
   ]
  },
  {
   "cell_type": "markdown",
   "metadata": {},
   "source": [
    "### Prediction of the MLP"
   ]
  },
  {
   "cell_type": "code",
   "execution_count": 9,
   "metadata": {},
   "outputs": [
    {
     "name": "stdout",
     "output_type": "stream",
     "text": [
      "Accuracy of the model: TRAIN=0.9992 TEST=0.9757\n",
      "Log loss of the model: TRAIN=0.0041 TEST=0.1045\n"
     ]
    }
   ],
   "source": [
    "Y_pred_train = mlp.predict(X_train)\n",
    "Y_prob_train = mlp.predict_proba(X_train)\n",
    "Y_pred = mlp.predict(X_test)\n",
    "Y_prob = mlp.predict_proba(X_test)\n",
    "\n",
    "\n",
    "accuracy_train = accuracy_score(Y_train, Y_pred_train)\n",
    "accuracy_test = accuracy_score(Y_test, Y_pred)\n",
    "\n",
    "loss_train = log_loss(Y_train, Y_prob_train)\n",
    "loss_test = log_loss(Y_test, Y_prob)\n",
    "\n",
    "print(f\"Accuracy of the model: TRAIN={round(accuracy_train, 4)} TEST={round(accuracy_test, 4)}\")\n",
    "print(f\"Log loss of the model: TRAIN={round(loss_train, 4)} TEST={round(loss_test, 4)}\")"
   ]
  },
  {
   "cell_type": "markdown",
   "metadata": {},
   "source": [
    "### Visualize the results"
   ]
  },
  {
   "cell_type": "code",
   "execution_count": 10,
   "metadata": {},
   "outputs": [
    {
     "data": {
      "image/png": "[encoded data removed]",
      "text/plain": [
       "<Figure size 648x648 with 2 Axes>"
      ]
     },
     "metadata": {
      "needs_background": "light"
     },
     "output_type": "display_data"
    }
   ],
   "source": [
    "cm = confusion_matrix(Y_test, Y_pred) \n",
    "plt.figure(figsize=(9, 9))\n",
    "sns.heatmap(cm, annot=True, cmap='Blues_r', linewidths=.5, square=True)\n",
    "plt.ylabel('Correct classes')\n",
    "plt.xlabel('Predicted classes')\n",
    "plt.show()"
   ]
  },
  {
   "cell_type": "markdown",
   "metadata": {},
   "source": [
    "### Check the errors"
   ]
  },
  {
   "cell_type": "code",
   "execution_count": 11,
   "metadata": {},
   "outputs": [
    {
     "name": "stdout",
     "output_type": "stream",
     "text": [
      "Number of wrong images over the test set: 243\n",
      "Number of total elements of the test set: 10000\n",
      "Errors in classification: 2.43%\n"
     ]
    }
   ],
   "source": [
    "count = 0\n",
    "for i in range(0,len(X_test)):\n",
    "    if(Y_test[i]!=Y_pred[i]):\n",
    "        count+=1\n",
    "        #plt.imshow(X_test[i].reshape([28,28]), cmap=\"gray\")\n",
    "        #plt.show()\n",
    "print(f\"Number of wrong images over the test set: {count}\")\n",
    "print(f\"Number of total elements of the test set: {X_test.shape[0]}\")\n",
    "print(f\"Errors in classification: {(100.0*count)/X_test.shape[0]}%\")"
   ]
  },
  {
   "cell_type": "code",
   "execution_count": null,
   "metadata": {},
   "outputs": [],
   "source": []
  }
 ],
 "metadata": {
  "kernelspec": {
   "display_name": "Python 3",
   "language": "python",
   "name": "python3"
  },
  "language_info": {
   "codemirror_mode": {
    "name": "ipython",
    "version": 3
   },
   "file_extension": ".py",
   "mimetype": "text/x-python",
   "name": "python",
   "nbconvert_exporter": "python",
   "pygments_lexer": "ipython3",
   "version": "3.7.6"
  }
 },
 "nbformat": 4,
 "nbformat_minor": 4
}
