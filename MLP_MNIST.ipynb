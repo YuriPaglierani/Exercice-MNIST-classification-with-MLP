{
 "cells": [
  {
   "cell_type": "markdown",
   "metadata": {},
   "source": [
    "### Load libraries"
   ]
  },
  {
   "cell_type": "code",
   "execution_count": 4,
   "metadata": {},
   "outputs": [],
   "source": [
    "import numpy as np\n",
    "from sklearn.preprocessing import MinMaxScaler\n",
    "from sklearn.metrics import accuracy_score, log_loss\n",
    "import matplotlib.pyplot as plt\n",
    "from time import time\n",
    "from sklearn.neural_network import MLPClassifier\n",
    "from sklearn.decomposition import PCA\n",
    "from sklearn.metrics import confusion_matrix\n",
    "import seaborn as sns\n",
    "import os\n",
    "import struct"
   ]
  },
  {
   "cell_type": "markdown",
   "metadata": {},
   "source": [
    "### Function for loading data"
   ]
  },
  {
   "cell_type": "code",
   "execution_count": 5,
   "metadata": {},
   "outputs": [],
   "source": [
    "def load_mnist(path=\"/\"):\n",
    "    train_labels_path = os.path.join(path, \"train-labels.idx1-ubyte\")\n",
    "    train_images_path = os.path.join(path, \"train-images.idx3-ubyte\")\n",
    "\n",
    "    test_labels_path = os.path.join(path, \"t10k-labels.idx1-ubyte\")\n",
    "    test_images_path = os.path.join(path, \"t10k-images.idx3-ubyte\")\n",
    "\n",
    "    labels_path = [train_labels_path, test_labels_path]\n",
    "    images_path = [train_images_path, test_images_path]\n",
    "\n",
    "    labels = []\n",
    "    images = []\n",
    "\n",
    "    for path in zip(labels_path, images_path):\n",
    "        with open(path[0], 'rb') as lbpath:\n",
    "            magic, n = struct.unpack('>II', lbpath.read(8))\n",
    "            lb = np.fromfile(lbpath, dtype=np.uint8)\n",
    "            labels.append(lb)\n",
    "\n",
    "        with open(path[1], 'rb') as imgpath:\n",
    "            magic, num, rows, cols = struct.unpack(\">IIII\", imgpath.read(16))\n",
    "            images.append(np.fromfile(imgpath, dtype=np.uint8).reshape(len(lb), 784))\n",
    "\n",
    "    return images[0], images[1], labels[0], labels[1]"
   ]
  },
  {
   "cell_type": "markdown",
   "metadata": {},
   "source": [
    "### Load the dataset"
   ]
  },
  {
   "cell_type": "code",
   "execution_count": 6,
   "metadata": {},
   "outputs": [
    {
     "name": "stdout",
     "output_type": "stream",
     "text": [
      "Initial number of properties: 784\n",
      "Examples for training: 60000\n",
      "Examples for test: 10000\n"
     ]
    }
   ],
   "source": [
    "X_train, X_test, Y_train, Y_test = load_mnist(path='MNIST')\n",
    "print(f\"Initial number of properties: {X_train.shape[1]}\")\n",
    "print(f\"Examples for training: {X_train.shape[0]}\")\n",
    "print(f\"Examples for test: {X_test.shape[0]}\")"
   ]
  },
  {
   "cell_type": "markdown",
   "metadata": {},
   "source": [
    "### Scale the dataset"
   ]
  },
  {
   "cell_type": "code",
   "execution_count": 7,
   "metadata": {},
   "outputs": [],
   "source": [
    "mms = MinMaxScaler()\n",
    "X_train = mms.fit_transform(X_train)\n",
    "X_test = mms.transform(X_test)"
   ]
  },
  {
   "cell_type": "markdown",
   "metadata": {},
   "source": [
    "### Uses PCA on the dataset"
   ]
  },
  {
   "cell_type": "code",
   "execution_count": 8,
   "metadata": {},
   "outputs": [
    {
     "name": "stdout",
     "output_type": "stream",
     "text": [
      "Final number of properties with a 0.90 threshold for variance: 87\n",
      "Time for the PCA: 7.71 seconds\n"
     ]
    }
   ],
   "source": [
    "pca = PCA(0.90)\n",
    "start_time = time()\n",
    "X_train_pca = pca.fit_transform(X_train)\n",
    "X_test_pca = pca.transform(X_test)\n",
    "end_time = time()\n",
    "\n",
    "print(f\"Final number of properties with a 0.90 threshold for variance: {X_train_pca.shape[1]}\")\n",
    "print(f\"Time for the PCA: {round(end_time-start_time, 2)} seconds\")"
   ]
  },
  {
   "cell_type": "markdown",
   "metadata": {},
   "source": [
    "### Training of the Multilayer Perceptron"
   ]
  },
  {
   "cell_type": "code",
   "execution_count": 9,
   "metadata": {},
   "outputs": [
    {
     "name": "stdout",
     "output_type": "stream",
     "text": [
      "Size of the Multilayer Perceptron: (64, 64)\n",
      "Time for the training: 67.08 seconds\n"
     ]
    }
   ],
   "source": [
    "hl_size = (64, 64,)\n",
    "mlp = MLPClassifier(hidden_layer_sizes=hl_size,\n",
    "                    verbose=False,\n",
    "                    solver='adam',\n",
    "                    max_iter=2000,\n",
    "                    learning_rate='adaptive',\n",
    "                    alpha=0.01)\n",
    "\n",
    "print(f\"Size of the Multilayer Perceptron: {hl_size}\")\n",
    "\n",
    "start_time = time()\n",
    "mlp.fit(X_train, Y_train)\n",
    "end_time = time()\n",
    "\n",
    "print(f\"Time for the training: {round(end_time-start_time, 2)} seconds\")"
   ]
  },
  {
   "cell_type": "markdown",
   "metadata": {},
   "source": [
    "### Prediction of the Multilayer Perceptron"
   ]
  },
  {
   "cell_type": "code",
   "execution_count": 11,
   "metadata": {},
   "outputs": [
    {
     "name": "stdout",
     "output_type": "stream",
     "text": [
      "Accuracy of the model: TRAIN=0.9997 TEST=0.978\n",
      "Log loss of the model: TRAIN=0.0025 TEST=0.0867\n"
     ]
    }
   ],
   "source": [
    "Y_pred_train = mlp.predict(X_train)\n",
    "Y_prob_train = mlp.predict_proba(X_train)\n",
    "Y_pred = mlp.predict(X_test)\n",
    "Y_prob = mlp.predict_proba(X_test)\n",
    "\n",
    "\n",
    "accuracy_train = accuracy_score(Y_train, Y_pred_train)\n",
    "accuracy_test = accuracy_score(Y_test, Y_pred)\n",
    "\n",
    "loss_train = log_loss(Y_train, Y_prob_train)\n",
    "loss_test = log_loss(Y_test, Y_prob)\n",
    "\n",
    "print(f\"Accuracy of the model: TRAIN={round(accuracy_train, 4)} TEST={round(accuracy_test, 4)}\")\n",
    "print(f\"Log loss of the model: TRAIN={round(loss_train, 4)} TEST={round(loss_test, 4)}\")"
   ]
  },
  {
   "cell_type": "markdown",
   "metadata": {},
   "source": [
    "### Visualize the results"
   ]
  },
  {
   "cell_type": "code",
   "execution_count": 12,
   "metadata": {},
   "outputs": [
    {
     "data": {
      "image/png": "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\n",
      "text/plain": [
       "<Figure size 648x648 with 2 Axes>"
      ]
     },
     "metadata": {
      "needs_background": "light"
     },
     "output_type": "display_data"
    }
   ],
   "source": [
    "cm = confusion_matrix(Y_test, Y_pred) \n",
    "plt.figure(figsize=(9, 9))\n",
    "sns.heatmap(cm, annot=True, cmap='Blues_r', linewidths=.5, square=True)\n",
    "plt.ylabel('Correct classes')\n",
    "plt.xlabel('Predicted classes')\n",
    "plt.show()"
   ]
  },
  {
   "cell_type": "markdown",
   "metadata": {},
   "source": [
    "### Check the errors"
   ]
  },
  {
   "cell_type": "code",
   "execution_count": 13,
   "metadata": {},
   "outputs": [
    {
     "name": "stdout",
     "output_type": "stream",
     "text": [
      "Number of wrong images over the test set: 220\n",
      "Number of total elements of the set: 10000\n",
      "Errors in classification: 2.2%\n"
     ]
    }
   ],
   "source": [
    "count = 0\n",
    "for i in range(0,len(X_test)):\n",
    "    if(Y_test[i]!=Y_pred[i]):\n",
    "        count+=1\n",
    "        print(f"The number {Y_test[i]} has been classified as {Y_pred[i]}")\n",
    "        #plt.imshow(X_test[i].reshape([28,28]), cmap=\"gray\")\n",
    "        #plt.show()\n",
    "print(f\"Number of wrong images over the test set: {count}\")\n",
    "print(f\"Number of total elements of the set: {X_test.shape[0]}\")\n",
    "print(f\"Errors in classification: {(100.0*count)/X_test.shape[0]}%\")"
   ]
  },
  {
   "cell_type": "code",
   "execution_count": null,
   "metadata": {},
   "outputs": [],
   "source": []
  }
 ],
 "metadata": {
  "kernelspec": {
   "display_name": "Python 3",
   "language": "python",
   "name": "python3"
  },
  "language_info": {
   "codemirror_mode": {
    "name": "ipython",
    "version": 3
   },
   "file_extension": ".py",
   "mimetype": "text/x-python",
   "name": "python",
   "nbconvert_exporter": "python",
   "pygments_lexer": "ipython3",
   "version": "3.7.6"
  }
 },
 "nbformat": 4,
 "nbformat_minor": 4
}
